{
 "cells": [
  {
   "cell_type": "markdown",
   "metadata": {},
   "source": [
    "## creating the board\n",
    "     "
   ]
  },
  {
   "cell_type": "code",
   "execution_count": 16,
   "metadata": {},
   "outputs": [],
   "source": [
    "from IPython.display import clear_output\n",
    "\n",
    "def display_board(board):\n",
    "    clear_output()\n",
    "    \n",
    "    print(board[1] + '|' + board[2] + '|' + board[3])\n",
    "    print(\"-----\")\n",
    "    print(board[4] + '|' + board[5] + '|' + board[6])\n",
    "    print(\"-----\")\n",
    "    print(board[7] + '|' + board[8] + '|' + board[9])\n",
    "    "
   ]
  },
  {
   "cell_type": "markdown",
   "metadata": {},
   "source": [
    "## assigning symbol (X,O) to players "
   ]
  },
  {
   "cell_type": "code",
   "execution_count": 17,
   "metadata": {},
   "outputs": [],
   "source": [
    "def player_input():\n",
    "    symbol = \" \"\n",
    "    \n",
    "    while not ( symbol == \"X\" or symbol == \"O\"):\n",
    "        symbol = input(\"Player 1 -> Pick your marker : X or O ? \").upper()\n",
    "        \n",
    "    if symbol == \"X\":\n",
    "            return ('X', 'O')\n",
    "        \n",
    "    else:\n",
    "            return ('O', 'X')\n",
    "\n"
   ]
  },
  {
   "cell_type": "markdown",
   "metadata": {},
   "source": [
    "# creating a function that takes in symbol and position and assign it to board"
   ]
  },
  {
   "cell_type": "code",
   "execution_count": 18,
   "metadata": {},
   "outputs": [],
   "source": [
    "def place_assign(board, symbol , position):\n",
    "    board[position] = symbol"
   ]
  },
  {
   "cell_type": "markdown",
   "metadata": {},
   "source": [
    "# creating a function to check the winner"
   ]
  },
  {
   "cell_type": "code",
   "execution_count": 19,
   "metadata": {},
   "outputs": [],
   "source": [
    "def win_checker(board, symbol):\n",
    "    \n",
    "    return ((board[1] == symbol and board[2] == symbol and board[3] == symbol) or  #horizontal top\n",
    "           (board[4] == symbol and board[5] == symbol and board[6] == symbol) or  #horiziontal middle\n",
    "           (board[7] == symbol and board[8] == symbol and board[9] == symbol) or  #horizontal bottom\n",
    "           (board[1] == symbol and board[4] == symbol and board[7] == symbol) or  #vertical left\n",
    "           (board[2] == symbol and board[5] == symbol and board[8] == symbol) or  #vertical middle\n",
    "           (board[3] == symbol and board[6] == symbol and board[9] == symbol) or  #vertical right\n",
    "           (board[1] == symbol and board[5] == symbol and board[9] == symbol) or  #diagonal\n",
    "           (board[3] == symbol and board[5] == symbol and board[7] == symbol))   #diagonal"
   ]
  },
  {
   "cell_type": "markdown",
   "metadata": {},
   "source": [
    "# create a function to know the first turn "
   ]
  },
  {
   "cell_type": "code",
   "execution_count": 20,
   "metadata": {},
   "outputs": [],
   "source": [
    "import random\n",
    "\n",
    "def first_turn():\n",
    "    if random.randint(0,1)==0:\n",
    "        return \"player 1\"\n",
    "    else:\n",
    "        return \"player 2\""
   ]
  },
  {
   "cell_type": "markdown",
   "metadata": {},
   "source": [
    "# create a function to check if a position on the board is empty or not"
   ]
  },
  {
   "cell_type": "code",
   "execution_count": 21,
   "metadata": {},
   "outputs": [],
   "source": [
    "def space_check(board,position):\n",
    "    return board[position] == ' '"
   ]
  },
  {
   "cell_type": "markdown",
   "metadata": {},
   "source": [
    "# check if the board is full or not"
   ]
  },
  {
   "cell_type": "code",
   "execution_count": 22,
   "metadata": {},
   "outputs": [],
   "source": [
    "def full_board(board):\n",
    "    for i in range(1,10):\n",
    "        if space_check(board,i) is True:\n",
    "            return False\n",
    "    \n",
    "    return True"
   ]
  },
  {
   "cell_type": "markdown",
   "metadata": {},
   "source": [
    "# function that asks players choice "
   ]
  },
  {
   "cell_type": "code",
   "execution_count": 23,
   "metadata": {},
   "outputs": [],
   "source": [
    "def player_choice(board):\n",
    "    \n",
    "    position = 0\n",
    "    while position not in [1,2,3,4,5,6,7,8,9] or not space_check(board,position):\n",
    "        position = int(input(\"choose your position : (1-9)\"))\n",
    "    return position"
   ]
  },
  {
   "cell_type": "markdown",
   "metadata": {},
   "source": [
    "# play again or not\n"
   ]
  },
  {
   "cell_type": "code",
   "execution_count": 24,
   "metadata": {},
   "outputs": [],
   "source": [
    "def replay():\n",
    "    return input(\"wish to play again? Yes or No :\").lower().startswith('y')"
   ]
  },
  {
   "cell_type": "markdown",
   "metadata": {},
   "source": [
    "# creating the game"
   ]
  },
  {
   "cell_type": "code",
   "execution_count": 26,
   "metadata": {},
   "outputs": [
    {
     "name": "stdout",
     "output_type": "stream",
     "text": [
      "O|X|O\n",
      "-----\n",
      "X|X|O\n",
      "-----\n",
      "O|O|X\n",
      "DRAW !\n",
      "wish to play again? Yes or No :n\n",
      "Thanks for playing !\n"
     ]
    }
   ],
   "source": [
    "#the system gives the intro\n",
    "import pyttsx3\n",
    "\n",
    "print(\"Welcome To TIC TAC TOE\")\n",
    "pyttsx3.speak('welcome to tic tac toe')\n",
    "print('Here is the layout of the board with indexes:')\n",
    "print('1|2|3')\n",
    "print(\"-----\")\n",
    "print('4|5|6')\n",
    "print(\"-----\")\n",
    "print('7|8|9')\n",
    "\n",
    "#while loop to keep running the game \n",
    "while True:\n",
    "    #play the game\n",
    "    # set up the board\n",
    "    board = [\" \"]*10\n",
    "    \n",
    "    #set up the marker or symbol\n",
    "    player1_symbol, player2_symbol = player_input()\n",
    "    \n",
    "    turn = first_turn()\n",
    "    print(turn + \" will go first\")\n",
    "    pyttsx3.speak(turn + \" will go first\")\n",
    "    \n",
    "    play_game = input('Ready to play? Yes or No : ')\n",
    "    if play_game.lower()[0] == 'y':\n",
    "        game_on = True\n",
    "    else:\n",
    "        game_on = False\n",
    "        \n",
    "    while game_on:\n",
    "        if turn == 'player 1':\n",
    "            \n",
    "            display_board(board)\n",
    "            position = player_choice(board)\n",
    "            place_assign(board, player1_symbol , position)\n",
    "            \n",
    "            if win_checker(board, player1_symbol):\n",
    "                \n",
    "                display_board(board)\n",
    "                print(\"CONGRATS ! Player 1 Won\")\n",
    "                pyttsx3.speak(\"congratulations\")\n",
    "                game_on=False\n",
    "                \n",
    "            else:\n",
    "                if full_board(board):\n",
    "                    display_board(board)\n",
    "                    print(\"DRAW !\")\n",
    "                    break \n",
    "                else:\n",
    "                    turn = 'player 2'\n",
    "                    \n",
    "        \n",
    "        else:\n",
    "            \n",
    "            display_board(board)\n",
    "            position = player_choice(board)\n",
    "            place_assign(board, player2_symbol , position)\n",
    "            \n",
    "            if win_checker(board, player2_symbol):\n",
    "                \n",
    "                display_board(board)\n",
    "                print(\"CONGRATS ! Player 2 Won\")\n",
    "                pyttsx3.speak(\"congratulations\")\n",
    "                game_on=False\n",
    "                \n",
    "            else:\n",
    "                if full_board(board):\n",
    "                    \n",
    "                    display_board(board)\n",
    "                    print(\"DRAW !\")\n",
    "                    break\n",
    "                else:\n",
    "                    turn = 'player 1'\n",
    "        \n",
    "        \n",
    "    \n",
    "    if not replay():\n",
    "        print(\"Thanks for playing !\")\n",
    "        break\n",
    "#break out of while loop : replay() "
   ]
  },
  {
   "cell_type": "code",
   "execution_count": null,
   "metadata": {},
   "outputs": [],
   "source": []
  }
 ],
 "metadata": {
  "kernelspec": {
   "display_name": "Python 3",
   "language": "python",
   "name": "python3"
  },
  "language_info": {
   "codemirror_mode": {
    "name": "ipython",
    "version": 3
   },
   "file_extension": ".py",
   "mimetype": "text/x-python",
   "name": "python",
   "nbconvert_exporter": "python",
   "pygments_lexer": "ipython3",
   "version": "3.8.3"
  }
 },
 "nbformat": 4,
 "nbformat_minor": 4
}
